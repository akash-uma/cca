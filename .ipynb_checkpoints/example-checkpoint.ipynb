{
 "cells": [
  {
   "cell_type": "code",
   "execution_count": 1,
   "metadata": {},
   "outputs": [],
   "source": [
    "import numpy as np\n",
    "import sim_probCCA as sc\n",
    "import canon_corr as cca\n",
    "import prob_cca as pcca\n",
    "import scipy.linalg as slin\n",
    "import matplotlib.pyplot as plt\n",
    "\n",
    "xDim,yDim,zDim = 30,30,5\n",
    "\n",
    "# simulate from pCCA model\n",
    "pcca_sim = sc.sim_probCCA(xDim,yDim,zDim,rand_seed=0)\n",
    "X,Y = pcca_sim.sim_data(10000,rand_seed=0)\n",
    "sim_model = pcca.prob_cca()\n",
    "sim_model.set_params(pcca_sim.get_params())\n"
   ]
  },
  {
   "cell_type": "code",
   "execution_count": 2,
   "metadata": {},
   "outputs": [
    {
     "data": {
      "image/png": "[encoded data removed]",
      "text/plain": [
       "<Figure size 432x288 with 1 Axes>"
      ]
     },
     "metadata": {
      "needs_background": "light"
     },
     "output_type": "display_data"
    }
   ],
   "source": [
    "# vanilla CCA\n",
    "cca_model = cca.canon_corr()\n",
    "cca_model.train(X,Y,zDim)\n",
    "Zx,Zy = cca_model.proj_data(X,Y)\n",
    "\n",
    "plt.figure(0)\n",
    "plt.plot(Zx[:,0],Zy[:,0],'b.')\n",
    "plt.xlabel('$Zx_{1}$')\n",
    "plt.ylabel('$Zy_{1}$')\n",
    "plt.show()\n"
   ]
  },
  {
   "cell_type": "code",
   "execution_count": 3,
   "metadata": {},
   "outputs": [
    {
     "data": {
      "image/png": "[encoded data removed]",
      "text/plain": [
       "<Figure size 432x288 with 1 Axes>"
      ]
     },
     "metadata": {
      "needs_background": "light"
     },
     "output_type": "display_data"
    }
   ],
   "source": [
    "# pCCA\n",
    "pcca_model = pcca.prob_cca()\n",
    "pcca_model.train(X,Y,zDim,warmstart=False,tol=1e-9,rand_seed=5)\n",
    "# pcca_model.train_maxLL(X,Y,zDim)\n",
    "z_pcca,curr_LL = pcca_model.estep(X,Y)\n",
    "# z_orth,Worth = pcca_model.orthogonalize(z_pcca['zx_mu'],z_pcca['zy_mu'])\n",
    "Z_x = z_pcca['zx_mu']\n",
    "Z_y = z_pcca['zy_mu']\n",
    "\n",
    "plt.figure(1)\n",
    "plt.plot(Z_x[:,4],Z_y[:,4],'b.')\n",
    "plt.xlabel('$Zx_{1}$')\n",
    "plt.ylabel('$Zy_{1}$')\n",
    "plt.show()\n"
   ]
  },
  {
   "cell_type": "code",
   "execution_count": null,
   "metadata": {},
   "outputs": [],
   "source": [
    "# crossvalidate pCCA\n",
    "pcca_model = pcca.prob_cca()\n",
    "LLs,zDim_list,max_LL,zDim = pcca_model.crossvalidate(X,Y)\n",
    "\n",
    "plt.figure(2)\n",
    "plt.plot(zDim_list,LLs,'bo-')\n",
    "plt.plot(zDim,max_LL,'r^')\n",
    "plt.show()\n"
   ]
  },
  {
   "cell_type": "code",
   "execution_count": null,
   "metadata": {},
   "outputs": [],
   "source": [
    "cv_rho = pcca_model.get_params()['cv_rho']\n",
    "train_rho = pcca_model.get_params()['rho']\n",
    "true_rho = sim_model.get_params()['rho']\n",
    "\n",
    "plt.figure(3)\n",
    "plt.plot(train_rho,'bo-')\n",
    "plt.plot(cv_rho,'ro-')\n",
    "plt.plot(true_rho,'ko-')\n",
    "plt.legend(('train','cv','ground truth'))\n",
    "plt.show()"
   ]
  },
  {
   "cell_type": "code",
   "execution_count": null,
   "metadata": {},
   "outputs": [],
   "source": [
    "# compute metrics\n",
    "fit_metrics = pcca_model.compute_metrics()\n",
    "gt_metrics = sim_model.compute_metrics()\n"
   ]
  },
  {
   "cell_type": "code",
   "execution_count": 5,
   "metadata": {},
   "outputs": [
    {
     "data": {
      "text/plain": [
       "0.9044189893323413"
      ]
     },
     "execution_count": 5,
     "metadata": {},
     "output_type": "execute_result"
    }
   ],
   "source": [
    "Z_x[:,4].var()"
   ]
  },
  {
   "cell_type": "code",
   "execution_count": null,
   "metadata": {},
   "outputs": [],
   "source": [
    "W_x, W_y = pcca_model.params['W_x'], pcca_model.params['W_y']\n",
    "\n",
    "est_covXY = W_x.dot(W_y.T)\n",
    "\n",
    "u,d,v = slin.svd(est_covXY)"
   ]
  },
  {
   "cell_type": "code",
   "execution_count": 6,
   "metadata": {},
   "outputs": [
    {
     "data": {
      "text/plain": [
       "array([0.99255773, 0.96268175, 0.94768263, 0.93773302, 0.9002615 ])"
      ]
     },
     "execution_count": 6,
     "metadata": {},
     "output_type": "execute_result"
    }
   ],
   "source": [
    "pcca_model.get_params()['rho']"
   ]
  },
  {
   "cell_type": "code",
   "execution_count": null,
   "metadata": {},
   "outputs": [],
   "source": [
    "W_x, W_y = pcca_model.params['W_x'], pcca_model.params['W_y']\n",
    "psi_x, psi_y = pcca_model.params['psi_x'], pcca_model.params['psi_y']\n",
    "\n",
    "# compute canonical correlations\n",
    "est_covX = W_x.dot(W_x.T) + psi_x\n",
    "est_covY = W_y.dot(W_y.T) + psi_y\n",
    "est_covXY = W_x.dot(W_y.T)\n",
    "inv_sqrt_covX = slin.inv(slin.sqrtm(est_covX))\n",
    "inv_sqrt_covY = slin.inv(slin.sqrtm(est_covY))\n",
    "K = inv_sqrt_covX.dot(est_covXY).dot(inv_sqrt_covY)\n",
    "u2,d,v2 = slin.svd(K)\n",
    "rho = d[0:zDim]\n",
    "\n",
    "# order W_x, W_y by canon corrs\n",
    "pd = np.diag(np.sqrt(rho))\n",
    "W_x2 = slin.sqrtm(np.cov(X.T,bias=True)).dot(u2[:,0:zDim]).dot(pd)\n",
    "W_y2 = slin.sqrtm(np.cov(Y.T,bias=True)).dot(v2[0:zDim,:].T).dot(pd)"
   ]
  },
  {
   "cell_type": "code",
   "execution_count": null,
   "metadata": {},
   "outputs": [],
   "source": [
    "slin.norm(W_x.dot(W_x.T)-W_x2.dot(W_x2.T))"
   ]
  },
  {
   "cell_type": "code",
   "execution_count": null,
   "metadata": {},
   "outputs": [],
   "source": []
  }
 ],
 "metadata": {
  "kernelspec": {
   "display_name": "Python 3",
   "language": "python",
   "name": "python3"
  },
  "language_info": {
   "codemirror_mode": {
    "name": "ipython",
    "version": 3
   },
   "file_extension": ".py",
   "mimetype": "text/x-python",
   "name": "python",
   "nbconvert_exporter": "python",
   "pygments_lexer": "ipython3",
   "version": "3.7.9"
  }
 },
 "nbformat": 4,
 "nbformat_minor": 2
}
