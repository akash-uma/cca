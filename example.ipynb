{
 "cells": [
  {
   "cell_type": "code",
   "execution_count": 1,
   "metadata": {},
   "outputs": [],
   "source": [
    "import numpy as np\n",
    "import sim_probCCA as sc\n",
    "import canon_corr as cca\n",
    "import prob_cca as pcca\n",
    "import scipy.linalg as slin\n",
    "import matplotlib.pyplot as plt\n",
    "\n",
    "xDim,yDim,zDim = 30,30,5\n",
    "\n",
    "# simulate from pCCA model\n",
    "pcca_sim = sc.sim_probCCA(xDim,yDim,zDim,rand_seed=0)\n",
    "X,Y = pcca_sim.sim_data(10000,rand_seed=0)\n",
    "sim_model = pcca.prob_cca()\n",
    "sim_model.set_params(pcca_sim.get_params())\n"
   ]
  },
  {
   "cell_type": "code",
   "execution_count": 2,
   "metadata": {},
   "outputs": [
    {
     "data": {
      "image/png": "[encoded data removed]",
      "text/plain": [
       "<Figure size 432x288 with 1 Axes>"
      ]
     },
     "metadata": {
      "needs_background": "light"
     },
     "output_type": "display_data"
    }
   ],
   "source": [
    "# vanilla CCA\n",
    "cca_model = cca.canon_corr()\n",
    "cca_model.train(X,Y,zDim)\n",
    "Zx,Zy = cca_model.proj_data(X,Y)\n",
    "\n",
    "plt.figure(0)\n",
    "plt.plot(Zx[:,0],Zy[:,0],'b.')\n",
    "plt.xlabel('$Zx_{1}$')\n",
    "plt.ylabel('$Zy_{1}$')\n",
    "plt.show()\n"
   ]
  },
  {
   "cell_type": "code",
   "execution_count": 3,
   "metadata": {},
   "outputs": [
    {
     "ename": "TypeError",
     "evalue": "list indices must be integers or slices, not str",
     "output_type": "error",
     "traceback": [
      "\u001b[0;31m---------------------------------------------------------------------------\u001b[0m",
      "\u001b[0;31mTypeError\u001b[0m                                 Traceback (most recent call last)",
      "\u001b[0;32m<ipython-input-3-668c6c0b7cdd>\u001b[0m in \u001b[0;36m<module>\u001b[0;34m\u001b[0m\n\u001b[1;32m      1\u001b[0m \u001b[0;31m# pCCA\u001b[0m\u001b[0;34m\u001b[0m\u001b[0;34m\u001b[0m\u001b[0;34m\u001b[0m\u001b[0m\n\u001b[1;32m      2\u001b[0m \u001b[0mpcca_model\u001b[0m \u001b[0;34m=\u001b[0m \u001b[0mpcca\u001b[0m\u001b[0;34m.\u001b[0m\u001b[0mprob_cca\u001b[0m\u001b[0;34m(\u001b[0m\u001b[0;34m)\u001b[0m\u001b[0;34m\u001b[0m\u001b[0;34m\u001b[0m\u001b[0m\n\u001b[0;32m----> 3\u001b[0;31m \u001b[0mpcca_model\u001b[0m\u001b[0;34m.\u001b[0m\u001b[0mtrain\u001b[0m\u001b[0;34m(\u001b[0m\u001b[0mX\u001b[0m\u001b[0;34m,\u001b[0m\u001b[0mY\u001b[0m\u001b[0;34m,\u001b[0m\u001b[0mzDim\u001b[0m\u001b[0;34m,\u001b[0m\u001b[0mwarmstart\u001b[0m\u001b[0;34m=\u001b[0m\u001b[0;32mFalse\u001b[0m\u001b[0;34m,\u001b[0m\u001b[0mtol\u001b[0m\u001b[0;34m=\u001b[0m\u001b[0;36m1e-9\u001b[0m\u001b[0;34m,\u001b[0m\u001b[0mrand_seed\u001b[0m\u001b[0;34m=\u001b[0m\u001b[0;36m5\u001b[0m\u001b[0;34m)\u001b[0m\u001b[0;34m\u001b[0m\u001b[0;34m\u001b[0m\u001b[0m\n\u001b[0m\u001b[1;32m      4\u001b[0m \u001b[0;31m# pcca_model.train_maxLL(X,Y,zDim)\u001b[0m\u001b[0;34m\u001b[0m\u001b[0;34m\u001b[0m\u001b[0;34m\u001b[0m\u001b[0m\n\u001b[1;32m      5\u001b[0m \u001b[0mz_pcca\u001b[0m\u001b[0;34m,\u001b[0m\u001b[0mcurr_LL\u001b[0m \u001b[0;34m=\u001b[0m \u001b[0mpcca_model\u001b[0m\u001b[0;34m.\u001b[0m\u001b[0mestep\u001b[0m\u001b[0;34m(\u001b[0m\u001b[0mX\u001b[0m\u001b[0;34m,\u001b[0m\u001b[0mY\u001b[0m\u001b[0;34m)\u001b[0m\u001b[0;34m\u001b[0m\u001b[0;34m\u001b[0m\u001b[0m\n",
      "\u001b[0;32m~/Documents/Grad_classes/graphical_mdls/cca/prob_cca.py\u001b[0m in \u001b[0;36mtrain\u001b[0;34m(self, X, Y, zDim, tol, max_iter, verbose, rand_seed, warmstart)\u001b[0m\n\u001b[1;32m     98\u001b[0m \u001b[0;34m\u001b[0m\u001b[0m\n\u001b[1;32m     99\u001b[0m         \u001b[0;31m# order Wx and Wy by canonical correlation\u001b[0m\u001b[0;34m\u001b[0m\u001b[0;34m\u001b[0m\u001b[0;34m\u001b[0m\u001b[0m\n\u001b[0;32m--> 100\u001b[0;31m         \u001b[0mz\u001b[0m\u001b[0;34m,\u001b[0m\u001b[0m_\u001b[0m \u001b[0;34m=\u001b[0m \u001b[0mself\u001b[0m\u001b[0;34m.\u001b[0m\u001b[0mestep\u001b[0m\u001b[0;34m(\u001b[0m\u001b[0mX\u001b[0m\u001b[0;34m,\u001b[0m\u001b[0mY\u001b[0m\u001b[0;34m)\u001b[0m\u001b[0;34m\u001b[0m\u001b[0;34m\u001b[0m\u001b[0m\n\u001b[0m\u001b[1;32m    101\u001b[0m         \u001b[0mzx\u001b[0m\u001b[0;34m,\u001b[0m\u001b[0mzy\u001b[0m \u001b[0;34m=\u001b[0m \u001b[0mz\u001b[0m\u001b[0;34m[\u001b[0m\u001b[0;34m'zx_mu'\u001b[0m\u001b[0;34m]\u001b[0m\u001b[0;34m,\u001b[0m \u001b[0mz\u001b[0m\u001b[0;34m[\u001b[0m\u001b[0;34m'zy_mu'\u001b[0m\u001b[0;34m]\u001b[0m\u001b[0;34m\u001b[0m\u001b[0;34m\u001b[0m\u001b[0m\n\u001b[1;32m    102\u001b[0m         \u001b[0mux\u001b[0m\u001b[0;34m,\u001b[0m\u001b[0m_\u001b[0m\u001b[0;34m,\u001b[0m\u001b[0m_\u001b[0m \u001b[0;34m=\u001b[0m \u001b[0mslin\u001b[0m\u001b[0;34m.\u001b[0m\u001b[0msvd\u001b[0m\u001b[0;34m(\u001b[0m\u001b[0mzx\u001b[0m\u001b[0;34m.\u001b[0m\u001b[0mT\u001b[0m\u001b[0;34m.\u001b[0m\u001b[0mdot\u001b[0m\u001b[0;34m(\u001b[0m\u001b[0mzx\u001b[0m\u001b[0;34m)\u001b[0m\u001b[0;34m)\u001b[0m\u001b[0;34m\u001b[0m\u001b[0;34m\u001b[0m\u001b[0m\n",
      "\u001b[0;32m~/Documents/Grad_classes/graphical_mdls/cca/prob_cca.py\u001b[0m in \u001b[0;36mestep\u001b[0;34m(self, X, Y)\u001b[0m\n\u001b[1;32m    166\u001b[0m \u001b[0;34m\u001b[0m\u001b[0m\n\u001b[1;32m    167\u001b[0m         \u001b[0;31m# get model parameters\u001b[0m\u001b[0;34m\u001b[0m\u001b[0;34m\u001b[0m\u001b[0;34m\u001b[0m\u001b[0m\n\u001b[0;32m--> 168\u001b[0;31m         \u001b[0mmu_x\u001b[0m \u001b[0;34m=\u001b[0m \u001b[0mself\u001b[0m\u001b[0;34m.\u001b[0m\u001b[0mparams\u001b[0m\u001b[0;34m[\u001b[0m\u001b[0;34m'mu_x'\u001b[0m\u001b[0;34m]\u001b[0m\u001b[0;34m\u001b[0m\u001b[0;34m\u001b[0m\u001b[0m\n\u001b[0m\u001b[1;32m    169\u001b[0m         \u001b[0mmu_y\u001b[0m \u001b[0;34m=\u001b[0m \u001b[0mself\u001b[0m\u001b[0;34m.\u001b[0m\u001b[0mparams\u001b[0m\u001b[0;34m[\u001b[0m\u001b[0;34m'mu_y'\u001b[0m\u001b[0;34m]\u001b[0m\u001b[0;34m\u001b[0m\u001b[0;34m\u001b[0m\u001b[0m\n\u001b[1;32m    170\u001b[0m         \u001b[0mmu\u001b[0m \u001b[0;34m=\u001b[0m \u001b[0mnp\u001b[0m\u001b[0;34m.\u001b[0m\u001b[0mconcatenate\u001b[0m\u001b[0;34m(\u001b[0m\u001b[0;34m(\u001b[0m\u001b[0mmu_x\u001b[0m\u001b[0;34m,\u001b[0m\u001b[0mmu_y\u001b[0m\u001b[0;34m)\u001b[0m\u001b[0;34m)\u001b[0m\u001b[0;34m\u001b[0m\u001b[0;34m\u001b[0m\u001b[0m\n",
      "\u001b[0;31mTypeError\u001b[0m: list indices must be integers or slices, not str"
     ]
    }
   ],
   "source": [
    "# pCCA\n",
    "pcca_model = pcca.prob_cca()\n",
    "pcca_model.train(X,Y,zDim,warmstart=False,tol=1e-9,rand_seed=5)\n",
    "# pcca_model.train_maxLL(X,Y,zDim)\n",
    "z_pcca,curr_LL = pcca_model.estep(X,Y)\n",
    "# z_orth,Worth = pcca_model.orthogonalize(z_pcca['zx_mu'],z_pcca['zy_mu'])\n",
    "Z_x = z_pcca['zx_mu']\n",
    "Z_y = z_pcca['zy_mu']\n",
    "\n",
    "plt.figure(1)\n",
    "plt.plot(Z_x[:,0],Z_y[:,0],'b.')\n",
    "plt.xlabel('$Zx_{1}$')\n",
    "plt.ylabel('$Zy_{1}$')\n",
    "plt.show()\n"
   ]
  },
  {
   "cell_type": "code",
   "execution_count": null,
   "metadata": {},
   "outputs": [],
   "source": [
    "# crossvalidate pCCA\n",
    "pcca_model = pcca.prob_cca()\n",
    "LLs,zDim_list,max_LL,zDim = pcca_model.crossvalidate(X,Y)\n",
    "\n",
    "plt.figure(2)\n",
    "plt.plot(zDim_list,LLs,'bo-')\n",
    "plt.plot(zDim,max_LL,'r^')\n",
    "plt.show()\n"
   ]
  },
  {
   "cell_type": "code",
   "execution_count": null,
   "metadata": {},
   "outputs": [],
   "source": [
    "cv_rho = pcca_model.get_params()['cv_rho']\n",
    "train_rho = pcca_model.get_params()['rho']\n",
    "true_rho = sim_model.get_params()['rho']\n",
    "\n",
    "plt.figure(3)\n",
    "plt.plot(train_rho,'bo-')\n",
    "plt.plot(cv_rho,'ro-')\n",
    "plt.plot(true_rho,'ko-')\n",
    "plt.legend(('train','cv','ground truth'))\n",
    "plt.show()"
   ]
  },
  {
   "cell_type": "code",
   "execution_count": null,
   "metadata": {},
   "outputs": [],
   "source": [
    "# compute metrics\n",
    "fit_metrics = pcca_model.compute_metrics()\n",
    "gt_metrics = sim_model.compute_metrics()\n"
   ]
  },
  {
   "cell_type": "code",
   "execution_count": null,
   "metadata": {},
   "outputs": [],
   "source": [
    "cca_model.params['W_x'][:,0]"
   ]
  },
  {
   "cell_type": "code",
   "execution_count": null,
   "metadata": {},
   "outputs": [],
   "source": [
    "u,d,v = slin.svd(Z_x.T.dot(Z_x))"
   ]
  },
  {
   "cell_type": "code",
   "execution_count": null,
   "metadata": {},
   "outputs": [],
   "source": [
    "pcca_model.get_params()['rho']"
   ]
  },
  {
   "cell_type": "code",
   "execution_count": null,
   "metadata": {},
   "outputs": [],
   "source": [
    "pcca_model.params['W_x'].dot(u)[:,0]"
   ]
  },
  {
   "cell_type": "code",
   "execution_count": null,
   "metadata": {},
   "outputs": [],
   "source": [
    "Z_x.T.dot(Z_x)"
   ]
  },
  {
   "cell_type": "code",
   "execution_count": null,
   "metadata": {},
   "outputs": [],
   "source": [
    "u.dot(u.T)"
   ]
  },
  {
   "cell_type": "code",
   "execution_count": null,
   "metadata": {},
   "outputs": [],
   "source": [
    "W_x, W_y = pcca_model.params['W_x'], pcca_model.params['W_y']\n",
    "psi_x, psi_y = pcca_model.params['psi_x'], pcca_model.params['psi_y']\n",
    "\n",
    "# compute canonical correlations\n",
    "est_covX = W_x.dot(W_x.T) + psi_x\n",
    "est_covY = W_y.dot(W_y.T) + psi_y\n",
    "est_covXY = W_x.dot(W_y.T)\n",
    "inv_sqrt_covX = slin.inv(slin.sqrtm(est_covX))\n",
    "inv_sqrt_covY = slin.inv(slin.sqrtm(est_covY))\n",
    "K = inv_sqrt_covX.dot(est_covXY).dot(inv_sqrt_covY)\n",
    "u2,d,v2 = slin.svd(K,econ=True)\n",
    "rho = d[0:zDim]"
   ]
  },
  {
   "cell_type": "code",
   "execution_count": null,
   "metadata": {},
   "outputs": [],
   "source": [
    "u2[:,0:zDim]"
   ]
  },
  {
   "cell_type": "code",
   "execution_count": null,
   "metadata": {},
   "outputs": [],
   "source": []
  }
 ],
 "metadata": {
  "kernelspec": {
   "display_name": "Python 3",
   "language": "python",
   "name": "python3"
  },
  "language_info": {
   "codemirror_mode": {
    "name": "ipython",
    "version": 3
   },
   "file_extension": ".py",
   "mimetype": "text/x-python",
   "name": "python",
   "nbconvert_exporter": "python",
   "pygments_lexer": "ipython3",
   "version": "3.7.9"
  }
 },
 "nbformat": 4,
 "nbformat_minor": 2
}
